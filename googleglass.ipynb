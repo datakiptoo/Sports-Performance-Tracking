{
 "cells": [
  {
   "cell_type": "markdown",
   "metadata": {},
   "source": [
    "Developing a machine learning model that can track and analyze football performance using sensor data."
   ]
  },
  {
   "cell_type": "markdown",
   "metadata": {},
   "source": [
    "Data Preparartions and Integration "
   ]
  },
  {
   "cell_type": "code",
   "execution_count": 131,
   "metadata": {},
   "outputs": [],
   "source": [
    "import pandas as pd\n",
    "\n",
    "\n",
    "#load gyroscope and accelerometer data into a DataFrame\n",
    "gyro_data001=pd.read_csv(r\"C:\\Users\\hp\\Sports Performance Tracking\\Data of Head and Torso movement\\data\\Training Data\\User008\\Glass\\gyroData.txt\",header=None,names=['Timestamp','X','Y','Z'],delimiter=',',parse_dates=['Timestamp'])\n",
    "linear_acceldata001=pd.read_csv(r\"C:\\Users\\hp\\Sports Performance Tracking\\Data of Head and Torso movement\\data\\Training Data\\User008\\Glass\\linearAccelData.txt\",header=None,names=['Timestamp','X','Y','Z'],delimiter=',')"
   ]
  },
  {
   "cell_type": "code",
   "execution_count": 132,
   "metadata": {},
   "outputs": [
    {
     "data": {
      "text/html": [
       "<div>\n",
       "<style scoped>\n",
       "    .dataframe tbody tr th:only-of-type {\n",
       "        vertical-align: middle;\n",
       "    }\n",
       "\n",
       "    .dataframe tbody tr th {\n",
       "        vertical-align: top;\n",
       "    }\n",
       "\n",
       "    .dataframe thead th {\n",
       "        text-align: right;\n",
       "    }\n",
       "</style>\n",
       "<table border=\"1\" class=\"dataframe\">\n",
       "  <thead>\n",
       "    <tr style=\"text-align: right;\">\n",
       "      <th></th>\n",
       "      <th>Timestamp</th>\n",
       "      <th>X</th>\n",
       "      <th>Y</th>\n",
       "      <th>Z</th>\n",
       "    </tr>\n",
       "  </thead>\n",
       "  <tbody>\n",
       "    <tr>\n",
       "      <th>0</th>\n",
       "      <td>2017-04-06 16:56:04:545</td>\n",
       "      <td>0.036219</td>\n",
       "      <td>-0.209857</td>\n",
       "      <td>0.143811</td>\n",
       "    </tr>\n",
       "    <tr>\n",
       "      <th>1</th>\n",
       "      <td>2017-04-06 16:56:04:733</td>\n",
       "      <td>0.061785</td>\n",
       "      <td>-0.060720</td>\n",
       "      <td>-0.252468</td>\n",
       "    </tr>\n",
       "    <tr>\n",
       "      <th>2</th>\n",
       "      <td>2017-04-06 16:56:04:933</td>\n",
       "      <td>0.284426</td>\n",
       "      <td>-0.239684</td>\n",
       "      <td>-0.180030</td>\n",
       "    </tr>\n",
       "    <tr>\n",
       "      <th>3</th>\n",
       "      <td>2017-04-06 16:56:05:131</td>\n",
       "      <td>-0.423975</td>\n",
       "      <td>-0.559264</td>\n",
       "      <td>-0.279099</td>\n",
       "    </tr>\n",
       "    <tr>\n",
       "      <th>4</th>\n",
       "      <td>2017-04-06 16:56:05:323</td>\n",
       "      <td>-0.166181</td>\n",
       "      <td>-0.491087</td>\n",
       "      <td>-0.144876</td>\n",
       "    </tr>\n",
       "  </tbody>\n",
       "</table>\n",
       "</div>"
      ],
      "text/plain": [
       "                 Timestamp         X         Y         Z\n",
       "0  2017-04-06 16:56:04:545  0.036219 -0.209857  0.143811\n",
       "1  2017-04-06 16:56:04:733  0.061785 -0.060720 -0.252468\n",
       "2  2017-04-06 16:56:04:933  0.284426 -0.239684 -0.180030\n",
       "3  2017-04-06 16:56:05:131 -0.423975 -0.559264 -0.279099\n",
       "4  2017-04-06 16:56:05:323 -0.166181 -0.491087 -0.144876"
      ]
     },
     "execution_count": 132,
     "metadata": {},
     "output_type": "execute_result"
    }
   ],
   "source": [
    "gyro_data001.head()"
   ]
  },
  {
   "cell_type": "code",
   "execution_count": 133,
   "metadata": {},
   "outputs": [
    {
     "data": {
      "text/plain": [
       "Index(['Timestamp', 'X', 'Y', 'Z'], dtype='object')"
      ]
     },
     "execution_count": 133,
     "metadata": {},
     "output_type": "execute_result"
    }
   ],
   "source": [
    "gyro_data001.columns"
   ]
  },
  {
   "cell_type": "code",
   "execution_count": 134,
   "metadata": {},
   "outputs": [
    {
     "data": {
      "text/html": [
       "<div>\n",
       "<style scoped>\n",
       "    .dataframe tbody tr th:only-of-type {\n",
       "        vertical-align: middle;\n",
       "    }\n",
       "\n",
       "    .dataframe tbody tr th {\n",
       "        vertical-align: top;\n",
       "    }\n",
       "\n",
       "    .dataframe thead th {\n",
       "        text-align: right;\n",
       "    }\n",
       "</style>\n",
       "<table border=\"1\" class=\"dataframe\">\n",
       "  <thead>\n",
       "    <tr style=\"text-align: right;\">\n",
       "      <th></th>\n",
       "      <th>Timestamp</th>\n",
       "      <th>X</th>\n",
       "      <th>Y</th>\n",
       "      <th>Z</th>\n",
       "    </tr>\n",
       "  </thead>\n",
       "  <tbody>\n",
       "    <tr>\n",
       "      <th>0</th>\n",
       "      <td>2017-04-06 16:56:04:787</td>\n",
       "      <td>-0.309899</td>\n",
       "      <td>-0.186299</td>\n",
       "      <td>-0.304213</td>\n",
       "    </tr>\n",
       "    <tr>\n",
       "      <th>1</th>\n",
       "      <td>2017-04-06 16:56:04:970</td>\n",
       "      <td>-0.459687</td>\n",
       "      <td>0.260220</td>\n",
       "      <td>-0.431704</td>\n",
       "    </tr>\n",
       "    <tr>\n",
       "      <th>2</th>\n",
       "      <td>2017-04-06 16:56:05:171</td>\n",
       "      <td>0.122703</td>\n",
       "      <td>-0.330998</td>\n",
       "      <td>-0.053570</td>\n",
       "    </tr>\n",
       "    <tr>\n",
       "      <th>3</th>\n",
       "      <td>2017-04-06 16:56:05:356</td>\n",
       "      <td>-0.604835</td>\n",
       "      <td>-0.240917</td>\n",
       "      <td>-0.300472</td>\n",
       "    </tr>\n",
       "    <tr>\n",
       "      <th>4</th>\n",
       "      <td>2017-04-06 16:56:05:553</td>\n",
       "      <td>0.038008</td>\n",
       "      <td>0.124648</td>\n",
       "      <td>0.213234</td>\n",
       "    </tr>\n",
       "  </tbody>\n",
       "</table>\n",
       "</div>"
      ],
      "text/plain": [
       "                 Timestamp         X         Y         Z\n",
       "0  2017-04-06 16:56:04:787 -0.309899 -0.186299 -0.304213\n",
       "1  2017-04-06 16:56:04:970 -0.459687  0.260220 -0.431704\n",
       "2  2017-04-06 16:56:05:171  0.122703 -0.330998 -0.053570\n",
       "3  2017-04-06 16:56:05:356 -0.604835 -0.240917 -0.300472\n",
       "4  2017-04-06 16:56:05:553  0.038008  0.124648  0.213234"
      ]
     },
     "execution_count": 134,
     "metadata": {},
     "output_type": "execute_result"
    }
   ],
   "source": [
    "linear_acceldata001.head()"
   ]
  },
  {
   "cell_type": "code",
   "execution_count": 135,
   "metadata": {},
   "outputs": [
    {
     "name": "stdout",
     "output_type": "stream",
     "text": [
      "<class 'pandas.core.frame.DataFrame'>\n",
      "RangeIndex: 919 entries, 0 to 918\n",
      "Data columns (total 4 columns):\n",
      " #   Column     Non-Null Count  Dtype  \n",
      "---  ------     --------------  -----  \n",
      " 0   Timestamp  919 non-null    object \n",
      " 1   X          919 non-null    float64\n",
      " 2   Y          919 non-null    float64\n",
      " 3   Z          919 non-null    float64\n",
      "dtypes: float64(3), object(1)\n",
      "memory usage: 28.8+ KB\n"
     ]
    }
   ],
   "source": [
    "gyro_data001.info()"
   ]
  },
  {
   "cell_type": "code",
   "execution_count": 136,
   "metadata": {},
   "outputs": [
    {
     "name": "stdout",
     "output_type": "stream",
     "text": [
      "<class 'pandas.core.frame.DataFrame'>\n",
      "RangeIndex: 918 entries, 0 to 917\n",
      "Data columns (total 4 columns):\n",
      " #   Column     Non-Null Count  Dtype  \n",
      "---  ------     --------------  -----  \n",
      " 0   Timestamp  918 non-null    object \n",
      " 1   X          918 non-null    float64\n",
      " 2   Y          918 non-null    float64\n",
      " 3   Z          918 non-null    float64\n",
      "dtypes: float64(3), object(1)\n",
      "memory usage: 28.8+ KB\n"
     ]
    }
   ],
   "source": [
    "linear_acceldata001.info()"
   ]
  },
  {
   "cell_type": "code",
   "execution_count": 137,
   "metadata": {},
   "outputs": [
    {
     "data": {
      "text/html": [
       "<div>\n",
       "<style scoped>\n",
       "    .dataframe tbody tr th:only-of-type {\n",
       "        vertical-align: middle;\n",
       "    }\n",
       "\n",
       "    .dataframe tbody tr th {\n",
       "        vertical-align: top;\n",
       "    }\n",
       "\n",
       "    .dataframe thead th {\n",
       "        text-align: right;\n",
       "    }\n",
       "</style>\n",
       "<table border=\"1\" class=\"dataframe\">\n",
       "  <thead>\n",
       "    <tr style=\"text-align: right;\">\n",
       "      <th></th>\n",
       "      <th>X</th>\n",
       "      <th>Y</th>\n",
       "      <th>Z</th>\n",
       "    </tr>\n",
       "  </thead>\n",
       "  <tbody>\n",
       "    <tr>\n",
       "      <th>count</th>\n",
       "      <td>919.000000</td>\n",
       "      <td>919.000000</td>\n",
       "      <td>919.000000</td>\n",
       "    </tr>\n",
       "    <tr>\n",
       "      <th>mean</th>\n",
       "      <td>0.003885</td>\n",
       "      <td>-0.013647</td>\n",
       "      <td>-0.027241</td>\n",
       "    </tr>\n",
       "    <tr>\n",
       "      <th>std</th>\n",
       "      <td>0.382262</td>\n",
       "      <td>0.675836</td>\n",
       "      <td>0.333230</td>\n",
       "    </tr>\n",
       "    <tr>\n",
       "      <th>min</th>\n",
       "      <td>-6.264820</td>\n",
       "      <td>-11.238540</td>\n",
       "      <td>-3.553722</td>\n",
       "    </tr>\n",
       "    <tr>\n",
       "      <th>25%</th>\n",
       "      <td>-0.101733</td>\n",
       "      <td>-0.191748</td>\n",
       "      <td>-0.108657</td>\n",
       "    </tr>\n",
       "    <tr>\n",
       "      <th>50%</th>\n",
       "      <td>0.008522</td>\n",
       "      <td>0.000000</td>\n",
       "      <td>-0.023436</td>\n",
       "    </tr>\n",
       "    <tr>\n",
       "      <th>75%</th>\n",
       "      <td>0.125169</td>\n",
       "      <td>0.234358</td>\n",
       "      <td>0.059655</td>\n",
       "    </tr>\n",
       "    <tr>\n",
       "      <th>max</th>\n",
       "      <td>3.139334</td>\n",
       "      <td>3.430152</td>\n",
       "      <td>5.202752</td>\n",
       "    </tr>\n",
       "  </tbody>\n",
       "</table>\n",
       "</div>"
      ],
      "text/plain": [
       "                X           Y           Z\n",
       "count  919.000000  919.000000  919.000000\n",
       "mean     0.003885   -0.013647   -0.027241\n",
       "std      0.382262    0.675836    0.333230\n",
       "min     -6.264820  -11.238540   -3.553722\n",
       "25%     -0.101733   -0.191748   -0.108657\n",
       "50%      0.008522    0.000000   -0.023436\n",
       "75%      0.125169    0.234358    0.059655\n",
       "max      3.139334    3.430152    5.202752"
      ]
     },
     "execution_count": 137,
     "metadata": {},
     "output_type": "execute_result"
    }
   ],
   "source": [
    "gyro_data001.describe()"
   ]
  },
  {
   "cell_type": "code",
   "execution_count": 138,
   "metadata": {},
   "outputs": [
    {
     "data": {
      "text/html": [
       "<div>\n",
       "<style scoped>\n",
       "    .dataframe tbody tr th:only-of-type {\n",
       "        vertical-align: middle;\n",
       "    }\n",
       "\n",
       "    .dataframe tbody tr th {\n",
       "        vertical-align: top;\n",
       "    }\n",
       "\n",
       "    .dataframe thead th {\n",
       "        text-align: right;\n",
       "    }\n",
       "</style>\n",
       "<table border=\"1\" class=\"dataframe\">\n",
       "  <thead>\n",
       "    <tr style=\"text-align: right;\">\n",
       "      <th></th>\n",
       "      <th>X</th>\n",
       "      <th>Y</th>\n",
       "      <th>Z</th>\n",
       "    </tr>\n",
       "  </thead>\n",
       "  <tbody>\n",
       "    <tr>\n",
       "      <th>count</th>\n",
       "      <td>918.000000</td>\n",
       "      <td>918.000000</td>\n",
       "      <td>918.000000</td>\n",
       "    </tr>\n",
       "    <tr>\n",
       "      <th>mean</th>\n",
       "      <td>0.055156</td>\n",
       "      <td>-0.155192</td>\n",
       "      <td>0.036182</td>\n",
       "    </tr>\n",
       "    <tr>\n",
       "      <th>std</th>\n",
       "      <td>1.320921</td>\n",
       "      <td>1.750712</td>\n",
       "      <td>0.930414</td>\n",
       "    </tr>\n",
       "    <tr>\n",
       "      <th>min</th>\n",
       "      <td>-24.284088</td>\n",
       "      <td>-12.350939</td>\n",
       "      <td>-9.732430</td>\n",
       "    </tr>\n",
       "    <tr>\n",
       "      <th>25%</th>\n",
       "      <td>-0.363619</td>\n",
       "      <td>-0.941632</td>\n",
       "      <td>-0.328193</td>\n",
       "    </tr>\n",
       "    <tr>\n",
       "      <th>50%</th>\n",
       "      <td>0.062773</td>\n",
       "      <td>-0.141557</td>\n",
       "      <td>0.022670</td>\n",
       "    </tr>\n",
       "    <tr>\n",
       "      <th>75%</th>\n",
       "      <td>0.427066</td>\n",
       "      <td>0.426692</td>\n",
       "      <td>0.407014</td>\n",
       "    </tr>\n",
       "    <tr>\n",
       "      <th>max</th>\n",
       "      <td>16.802507</td>\n",
       "      <td>6.855048</td>\n",
       "      <td>8.903138</td>\n",
       "    </tr>\n",
       "  </tbody>\n",
       "</table>\n",
       "</div>"
      ],
      "text/plain": [
       "                X           Y           Z\n",
       "count  918.000000  918.000000  918.000000\n",
       "mean     0.055156   -0.155192    0.036182\n",
       "std      1.320921    1.750712    0.930414\n",
       "min    -24.284088  -12.350939   -9.732430\n",
       "25%     -0.363619   -0.941632   -0.328193\n",
       "50%      0.062773   -0.141557    0.022670\n",
       "75%      0.427066    0.426692    0.407014\n",
       "max     16.802507    6.855048    8.903138"
      ]
     },
     "execution_count": 138,
     "metadata": {},
     "output_type": "execute_result"
    }
   ],
   "source": [
    "linear_acceldata001.describe()"
   ]
  },
  {
   "cell_type": "code",
   "execution_count": null,
   "metadata": {},
   "outputs": [],
   "source": []
  },
  {
   "cell_type": "markdown",
   "metadata": {},
   "source": [
    "Load and Process the Timing Data"
   ]
  },
  {
   "cell_type": "code",
   "execution_count": 139,
   "metadata": {},
   "outputs": [
    {
     "data": {
      "text/html": [
       "<div>\n",
       "<style scoped>\n",
       "    .dataframe tbody tr th:only-of-type {\n",
       "        vertical-align: middle;\n",
       "    }\n",
       "\n",
       "    .dataframe tbody tr th {\n",
       "        vertical-align: top;\n",
       "    }\n",
       "\n",
       "    .dataframe thead th {\n",
       "        text-align: right;\n",
       "    }\n",
       "</style>\n",
       "<table border=\"1\" class=\"dataframe\">\n",
       "  <thead>\n",
       "    <tr style=\"text-align: right;\">\n",
       "      <th></th>\n",
       "      <th>Timestamp</th>\n",
       "      <th>X</th>\n",
       "      <th>Y</th>\n",
       "      <th>Z</th>\n",
       "    </tr>\n",
       "  </thead>\n",
       "  <tbody>\n",
       "    <tr>\n",
       "      <th>0</th>\n",
       "      <td>2017-04-06 16:56:04:545</td>\n",
       "      <td>0.036219</td>\n",
       "      <td>-0.209857</td>\n",
       "      <td>0.143811</td>\n",
       "    </tr>\n",
       "    <tr>\n",
       "      <th>1</th>\n",
       "      <td>2017-04-06 16:56:04:733</td>\n",
       "      <td>0.061785</td>\n",
       "      <td>-0.060720</td>\n",
       "      <td>-0.252468</td>\n",
       "    </tr>\n",
       "    <tr>\n",
       "      <th>2</th>\n",
       "      <td>2017-04-06 16:56:04:933</td>\n",
       "      <td>0.284426</td>\n",
       "      <td>-0.239684</td>\n",
       "      <td>-0.180030</td>\n",
       "    </tr>\n",
       "    <tr>\n",
       "      <th>3</th>\n",
       "      <td>2017-04-06 16:56:05:131</td>\n",
       "      <td>-0.423975</td>\n",
       "      <td>-0.559264</td>\n",
       "      <td>-0.279099</td>\n",
       "    </tr>\n",
       "    <tr>\n",
       "      <th>4</th>\n",
       "      <td>2017-04-06 16:56:05:323</td>\n",
       "      <td>-0.166181</td>\n",
       "      <td>-0.491087</td>\n",
       "      <td>-0.144876</td>\n",
       "    </tr>\n",
       "    <tr>\n",
       "      <th>...</th>\n",
       "      <td>...</td>\n",
       "      <td>...</td>\n",
       "      <td>...</td>\n",
       "      <td>...</td>\n",
       "    </tr>\n",
       "    <tr>\n",
       "      <th>914</th>\n",
       "      <td>2017-04-06 16:59:07:070</td>\n",
       "      <td>0.152333</td>\n",
       "      <td>-0.615723</td>\n",
       "      <td>-0.355798</td>\n",
       "    </tr>\n",
       "    <tr>\n",
       "      <th>915</th>\n",
       "      <td>2017-04-06 16:59:07:268</td>\n",
       "      <td>-0.410127</td>\n",
       "      <td>0.171508</td>\n",
       "      <td>-0.338754</td>\n",
       "    </tr>\n",
       "    <tr>\n",
       "      <th>916</th>\n",
       "      <td>2017-04-06 16:59:07:459</td>\n",
       "      <td>-0.741424</td>\n",
       "      <td>0.864995</td>\n",
       "      <td>0.768056</td>\n",
       "    </tr>\n",
       "    <tr>\n",
       "      <th>917</th>\n",
       "      <td>2017-04-06 16:59:07:811</td>\n",
       "      <td>0.392017</td>\n",
       "      <td>-1.178182</td>\n",
       "      <td>1.071656</td>\n",
       "    </tr>\n",
       "    <tr>\n",
       "      <th>918</th>\n",
       "      <td>2017-04-06 16:59:07:866</td>\n",
       "      <td>0.192813</td>\n",
       "      <td>0.917193</td>\n",
       "      <td>0.001065</td>\n",
       "    </tr>\n",
       "  </tbody>\n",
       "</table>\n",
       "<p>919 rows × 4 columns</p>\n",
       "</div>"
      ],
      "text/plain": [
       "                   Timestamp         X         Y         Z\n",
       "0    2017-04-06 16:56:04:545  0.036219 -0.209857  0.143811\n",
       "1    2017-04-06 16:56:04:733  0.061785 -0.060720 -0.252468\n",
       "2    2017-04-06 16:56:04:933  0.284426 -0.239684 -0.180030\n",
       "3    2017-04-06 16:56:05:131 -0.423975 -0.559264 -0.279099\n",
       "4    2017-04-06 16:56:05:323 -0.166181 -0.491087 -0.144876\n",
       "..                       ...       ...       ...       ...\n",
       "914  2017-04-06 16:59:07:070  0.152333 -0.615723 -0.355798\n",
       "915  2017-04-06 16:59:07:268 -0.410127  0.171508 -0.338754\n",
       "916  2017-04-06 16:59:07:459 -0.741424  0.864995  0.768056\n",
       "917  2017-04-06 16:59:07:811  0.392017 -1.178182  1.071656\n",
       "918  2017-04-06 16:59:07:866  0.192813  0.917193  0.001065\n",
       "\n",
       "[919 rows x 4 columns]"
      ]
     },
     "execution_count": 139,
     "metadata": {},
     "output_type": "execute_result"
    }
   ],
   "source": [
    "gyro_data001"
   ]
  },
  {
   "cell_type": "code",
   "execution_count": 140,
   "metadata": {},
   "outputs": [
    {
     "data": {
      "text/plain": [
       "0      2017-04-06 16:56:04:545\n",
       "1      2017-04-06 16:56:04:733\n",
       "2      2017-04-06 16:56:04:933\n",
       "3      2017-04-06 16:56:05:131\n",
       "4      2017-04-06 16:56:05:323\n",
       "                ...           \n",
       "914    2017-04-06 16:59:07:070\n",
       "915    2017-04-06 16:59:07:268\n",
       "916    2017-04-06 16:59:07:459\n",
       "917    2017-04-06 16:59:07:811\n",
       "918    2017-04-06 16:59:07:866\n",
       "Name: Timestamp, Length: 919, dtype: object"
      ]
     },
     "execution_count": 140,
     "metadata": {},
     "output_type": "execute_result"
    }
   ],
   "source": [
    "gyro_data001['Timestamp']"
   ]
  },
  {
   "cell_type": "code",
   "execution_count": 141,
   "metadata": {},
   "outputs": [
    {
     "data": {
      "text/html": [
       "<div>\n",
       "<style scoped>\n",
       "    .dataframe tbody tr th:only-of-type {\n",
       "        vertical-align: middle;\n",
       "    }\n",
       "\n",
       "    .dataframe tbody tr th {\n",
       "        vertical-align: top;\n",
       "    }\n",
       "\n",
       "    .dataframe thead th {\n",
       "        text-align: right;\n",
       "    }\n",
       "</style>\n",
       "<table border=\"1\" class=\"dataframe\">\n",
       "  <thead>\n",
       "    <tr style=\"text-align: right;\">\n",
       "      <th></th>\n",
       "      <th>Timestamp</th>\n",
       "      <th>X</th>\n",
       "      <th>Y</th>\n",
       "      <th>Z</th>\n",
       "      <th>Date</th>\n",
       "      <th>Time</th>\n",
       "    </tr>\n",
       "  </thead>\n",
       "  <tbody>\n",
       "    <tr>\n",
       "      <th>0</th>\n",
       "      <td>2017-04-06 16:56:04.545</td>\n",
       "      <td>0.036219</td>\n",
       "      <td>-0.209857</td>\n",
       "      <td>0.143811</td>\n",
       "      <td>2017-04-06</td>\n",
       "      <td>16:56:04.545000</td>\n",
       "    </tr>\n",
       "    <tr>\n",
       "      <th>1</th>\n",
       "      <td>2017-04-06 16:56:04.733</td>\n",
       "      <td>0.061785</td>\n",
       "      <td>-0.060720</td>\n",
       "      <td>-0.252468</td>\n",
       "      <td>2017-04-06</td>\n",
       "      <td>16:56:04.733000</td>\n",
       "    </tr>\n",
       "    <tr>\n",
       "      <th>2</th>\n",
       "      <td>2017-04-06 16:56:04.933</td>\n",
       "      <td>0.284426</td>\n",
       "      <td>-0.239684</td>\n",
       "      <td>-0.180030</td>\n",
       "      <td>2017-04-06</td>\n",
       "      <td>16:56:04.933000</td>\n",
       "    </tr>\n",
       "    <tr>\n",
       "      <th>3</th>\n",
       "      <td>2017-04-06 16:56:05.131</td>\n",
       "      <td>-0.423975</td>\n",
       "      <td>-0.559264</td>\n",
       "      <td>-0.279099</td>\n",
       "      <td>2017-04-06</td>\n",
       "      <td>16:56:05.131000</td>\n",
       "    </tr>\n",
       "    <tr>\n",
       "      <th>4</th>\n",
       "      <td>2017-04-06 16:56:05.323</td>\n",
       "      <td>-0.166181</td>\n",
       "      <td>-0.491087</td>\n",
       "      <td>-0.144876</td>\n",
       "      <td>2017-04-06</td>\n",
       "      <td>16:56:05.323000</td>\n",
       "    </tr>\n",
       "    <tr>\n",
       "      <th>...</th>\n",
       "      <td>...</td>\n",
       "      <td>...</td>\n",
       "      <td>...</td>\n",
       "      <td>...</td>\n",
       "      <td>...</td>\n",
       "      <td>...</td>\n",
       "    </tr>\n",
       "    <tr>\n",
       "      <th>914</th>\n",
       "      <td>2017-04-06 16:59:07.070</td>\n",
       "      <td>0.152333</td>\n",
       "      <td>-0.615723</td>\n",
       "      <td>-0.355798</td>\n",
       "      <td>2017-04-06</td>\n",
       "      <td>16:59:07.070000</td>\n",
       "    </tr>\n",
       "    <tr>\n",
       "      <th>915</th>\n",
       "      <td>2017-04-06 16:59:07.268</td>\n",
       "      <td>-0.410127</td>\n",
       "      <td>0.171508</td>\n",
       "      <td>-0.338754</td>\n",
       "      <td>2017-04-06</td>\n",
       "      <td>16:59:07.268000</td>\n",
       "    </tr>\n",
       "    <tr>\n",
       "      <th>916</th>\n",
       "      <td>2017-04-06 16:59:07.459</td>\n",
       "      <td>-0.741424</td>\n",
       "      <td>0.864995</td>\n",
       "      <td>0.768056</td>\n",
       "      <td>2017-04-06</td>\n",
       "      <td>16:59:07.459000</td>\n",
       "    </tr>\n",
       "    <tr>\n",
       "      <th>917</th>\n",
       "      <td>2017-04-06 16:59:07.811</td>\n",
       "      <td>0.392017</td>\n",
       "      <td>-1.178182</td>\n",
       "      <td>1.071656</td>\n",
       "      <td>2017-04-06</td>\n",
       "      <td>16:59:07.811000</td>\n",
       "    </tr>\n",
       "    <tr>\n",
       "      <th>918</th>\n",
       "      <td>2017-04-06 16:59:07.866</td>\n",
       "      <td>0.192813</td>\n",
       "      <td>0.917193</td>\n",
       "      <td>0.001065</td>\n",
       "      <td>2017-04-06</td>\n",
       "      <td>16:59:07.866000</td>\n",
       "    </tr>\n",
       "  </tbody>\n",
       "</table>\n",
       "<p>919 rows × 6 columns</p>\n",
       "</div>"
      ],
      "text/plain": [
       "                  Timestamp         X         Y         Z        Date  \\\n",
       "0   2017-04-06 16:56:04.545  0.036219 -0.209857  0.143811  2017-04-06   \n",
       "1   2017-04-06 16:56:04.733  0.061785 -0.060720 -0.252468  2017-04-06   \n",
       "2   2017-04-06 16:56:04.933  0.284426 -0.239684 -0.180030  2017-04-06   \n",
       "3   2017-04-06 16:56:05.131 -0.423975 -0.559264 -0.279099  2017-04-06   \n",
       "4   2017-04-06 16:56:05.323 -0.166181 -0.491087 -0.144876  2017-04-06   \n",
       "..                      ...       ...       ...       ...         ...   \n",
       "914 2017-04-06 16:59:07.070  0.152333 -0.615723 -0.355798  2017-04-06   \n",
       "915 2017-04-06 16:59:07.268 -0.410127  0.171508 -0.338754  2017-04-06   \n",
       "916 2017-04-06 16:59:07.459 -0.741424  0.864995  0.768056  2017-04-06   \n",
       "917 2017-04-06 16:59:07.811  0.392017 -1.178182  1.071656  2017-04-06   \n",
       "918 2017-04-06 16:59:07.866  0.192813  0.917193  0.001065  2017-04-06   \n",
       "\n",
       "                Time  \n",
       "0    16:56:04.545000  \n",
       "1    16:56:04.733000  \n",
       "2    16:56:04.933000  \n",
       "3    16:56:05.131000  \n",
       "4    16:56:05.323000  \n",
       "..               ...  \n",
       "914  16:59:07.070000  \n",
       "915  16:59:07.268000  \n",
       "916  16:59:07.459000  \n",
       "917  16:59:07.811000  \n",
       "918  16:59:07.866000  \n",
       "\n",
       "[919 rows x 6 columns]"
      ]
     },
     "execution_count": 141,
     "metadata": {},
     "output_type": "execute_result"
    }
   ],
   "source": [
    "gyro_data001['Timestamp'] = pd.to_datetime(gyro_data001['Timestamp'], format='%Y-%m-%d %H:%M:%S:%f')\n",
    "gyro_data001['Date']=gyro_data001['Timestamp'].dt.date\n",
    "gyro_data001['Time']=gyro_data001['Timestamp'].dt.time\n",
    "gyro_data001\n"
   ]
  },
  {
   "cell_type": "code",
   "execution_count": 142,
   "metadata": {},
   "outputs": [
    {
     "data": {
      "text/html": [
       "<div>\n",
       "<style scoped>\n",
       "    .dataframe tbody tr th:only-of-type {\n",
       "        vertical-align: middle;\n",
       "    }\n",
       "\n",
       "    .dataframe tbody tr th {\n",
       "        vertical-align: top;\n",
       "    }\n",
       "\n",
       "    .dataframe thead th {\n",
       "        text-align: right;\n",
       "    }\n",
       "</style>\n",
       "<table border=\"1\" class=\"dataframe\">\n",
       "  <thead>\n",
       "    <tr style=\"text-align: right;\">\n",
       "      <th></th>\n",
       "      <th>X</th>\n",
       "      <th>Y</th>\n",
       "      <th>Z</th>\n",
       "      <th>Date</th>\n",
       "      <th>Time</th>\n",
       "    </tr>\n",
       "  </thead>\n",
       "  <tbody>\n",
       "    <tr>\n",
       "      <th>0</th>\n",
       "      <td>0.036219</td>\n",
       "      <td>-0.209857</td>\n",
       "      <td>0.143811</td>\n",
       "      <td>2017-04-06</td>\n",
       "      <td>16:56:04.545000</td>\n",
       "    </tr>\n",
       "    <tr>\n",
       "      <th>1</th>\n",
       "      <td>0.061785</td>\n",
       "      <td>-0.060720</td>\n",
       "      <td>-0.252468</td>\n",
       "      <td>2017-04-06</td>\n",
       "      <td>16:56:04.733000</td>\n",
       "    </tr>\n",
       "    <tr>\n",
       "      <th>2</th>\n",
       "      <td>0.284426</td>\n",
       "      <td>-0.239684</td>\n",
       "      <td>-0.180030</td>\n",
       "      <td>2017-04-06</td>\n",
       "      <td>16:56:04.933000</td>\n",
       "    </tr>\n",
       "    <tr>\n",
       "      <th>3</th>\n",
       "      <td>-0.423975</td>\n",
       "      <td>-0.559264</td>\n",
       "      <td>-0.279099</td>\n",
       "      <td>2017-04-06</td>\n",
       "      <td>16:56:05.131000</td>\n",
       "    </tr>\n",
       "    <tr>\n",
       "      <th>4</th>\n",
       "      <td>-0.166181</td>\n",
       "      <td>-0.491087</td>\n",
       "      <td>-0.144876</td>\n",
       "      <td>2017-04-06</td>\n",
       "      <td>16:56:05.323000</td>\n",
       "    </tr>\n",
       "    <tr>\n",
       "      <th>...</th>\n",
       "      <td>...</td>\n",
       "      <td>...</td>\n",
       "      <td>...</td>\n",
       "      <td>...</td>\n",
       "      <td>...</td>\n",
       "    </tr>\n",
       "    <tr>\n",
       "      <th>914</th>\n",
       "      <td>0.152333</td>\n",
       "      <td>-0.615723</td>\n",
       "      <td>-0.355798</td>\n",
       "      <td>2017-04-06</td>\n",
       "      <td>16:59:07.070000</td>\n",
       "    </tr>\n",
       "    <tr>\n",
       "      <th>915</th>\n",
       "      <td>-0.410127</td>\n",
       "      <td>0.171508</td>\n",
       "      <td>-0.338754</td>\n",
       "      <td>2017-04-06</td>\n",
       "      <td>16:59:07.268000</td>\n",
       "    </tr>\n",
       "    <tr>\n",
       "      <th>916</th>\n",
       "      <td>-0.741424</td>\n",
       "      <td>0.864995</td>\n",
       "      <td>0.768056</td>\n",
       "      <td>2017-04-06</td>\n",
       "      <td>16:59:07.459000</td>\n",
       "    </tr>\n",
       "    <tr>\n",
       "      <th>917</th>\n",
       "      <td>0.392017</td>\n",
       "      <td>-1.178182</td>\n",
       "      <td>1.071656</td>\n",
       "      <td>2017-04-06</td>\n",
       "      <td>16:59:07.811000</td>\n",
       "    </tr>\n",
       "    <tr>\n",
       "      <th>918</th>\n",
       "      <td>0.192813</td>\n",
       "      <td>0.917193</td>\n",
       "      <td>0.001065</td>\n",
       "      <td>2017-04-06</td>\n",
       "      <td>16:59:07.866000</td>\n",
       "    </tr>\n",
       "  </tbody>\n",
       "</table>\n",
       "<p>919 rows × 5 columns</p>\n",
       "</div>"
      ],
      "text/plain": [
       "            X         Y         Z        Date             Time\n",
       "0    0.036219 -0.209857  0.143811  2017-04-06  16:56:04.545000\n",
       "1    0.061785 -0.060720 -0.252468  2017-04-06  16:56:04.733000\n",
       "2    0.284426 -0.239684 -0.180030  2017-04-06  16:56:04.933000\n",
       "3   -0.423975 -0.559264 -0.279099  2017-04-06  16:56:05.131000\n",
       "4   -0.166181 -0.491087 -0.144876  2017-04-06  16:56:05.323000\n",
       "..        ...       ...       ...         ...              ...\n",
       "914  0.152333 -0.615723 -0.355798  2017-04-06  16:59:07.070000\n",
       "915 -0.410127  0.171508 -0.338754  2017-04-06  16:59:07.268000\n",
       "916 -0.741424  0.864995  0.768056  2017-04-06  16:59:07.459000\n",
       "917  0.392017 -1.178182  1.071656  2017-04-06  16:59:07.811000\n",
       "918  0.192813  0.917193  0.001065  2017-04-06  16:59:07.866000\n",
       "\n",
       "[919 rows x 5 columns]"
      ]
     },
     "execution_count": 142,
     "metadata": {},
     "output_type": "execute_result"
    }
   ],
   "source": [
    "del gyro_data001['Timestamp']\n",
    "gyro_data001"
   ]
  },
  {
   "cell_type": "code",
   "execution_count": 143,
   "metadata": {},
   "outputs": [
    {
     "data": {
      "text/html": [
       "<div>\n",
       "<style scoped>\n",
       "    .dataframe tbody tr th:only-of-type {\n",
       "        vertical-align: middle;\n",
       "    }\n",
       "\n",
       "    .dataframe tbody tr th {\n",
       "        vertical-align: top;\n",
       "    }\n",
       "\n",
       "    .dataframe thead th {\n",
       "        text-align: right;\n",
       "    }\n",
       "</style>\n",
       "<table border=\"1\" class=\"dataframe\">\n",
       "  <thead>\n",
       "    <tr style=\"text-align: right;\">\n",
       "      <th></th>\n",
       "      <th>00:00:00 - 00:00:00</th>\n",
       "    </tr>\n",
       "  </thead>\n",
       "  <tbody>\n",
       "    <tr>\n",
       "      <th>0</th>\n",
       "      <td>00:09:15 - 00:11:95</td>\n",
       "    </tr>\n",
       "    <tr>\n",
       "      <th>1</th>\n",
       "      <td>00:42:10 - 00:45:31</td>\n",
       "    </tr>\n",
       "    <tr>\n",
       "      <th>2</th>\n",
       "      <td>00:46:84 - 01:07:03</td>\n",
       "    </tr>\n",
       "    <tr>\n",
       "      <th>3</th>\n",
       "      <td>01:13:67 - 01:33:79</td>\n",
       "    </tr>\n",
       "    <tr>\n",
       "      <th>4</th>\n",
       "      <td>01:35:63 - 01:37:46</td>\n",
       "    </tr>\n",
       "    <tr>\n",
       "      <th>5</th>\n",
       "      <td>02:03:02 - 02:03:02</td>\n",
       "    </tr>\n",
       "  </tbody>\n",
       "</table>\n",
       "</div>"
      ],
      "text/plain": [
       "   00:00:00 - 00:00:00\n",
       "0  00:09:15 - 00:11:95\n",
       "1  00:42:10 - 00:45:31\n",
       "2  00:46:84 - 01:07:03\n",
       "3  01:13:67 - 01:33:79\n",
       "4  01:35:63 - 01:37:46\n",
       "5  02:03:02 - 02:03:02"
      ]
     },
     "execution_count": 143,
     "metadata": {},
     "output_type": "execute_result"
    }
   ],
   "source": [
    "timings_data=pd.read_csv(r\"C:\\Users\\hp\\Sports Performance Tracking\\Data of Head and Torso movement\\data\\Training Data\\User008\\Timings.txt\")\n",
    "timings_data"
   ]
  },
  {
   "cell_type": "markdown",
   "metadata": {},
   "source": [
    "Contains the start and end timestamps for each of my soccer activity."
   ]
  },
  {
   "cell_type": "code",
   "execution_count": 144,
   "metadata": {},
   "outputs": [
    {
     "data": {
      "text/html": [
       "<div>\n",
       "<style scoped>\n",
       "    .dataframe tbody tr th:only-of-type {\n",
       "        vertical-align: middle;\n",
       "    }\n",
       "\n",
       "    .dataframe tbody tr th {\n",
       "        vertical-align: top;\n",
       "    }\n",
       "\n",
       "    .dataframe thead th {\n",
       "        text-align: right;\n",
       "    }\n",
       "</style>\n",
       "<table border=\"1\" class=\"dataframe\">\n",
       "  <thead>\n",
       "    <tr style=\"text-align: right;\">\n",
       "      <th></th>\n",
       "      <th>00:00:00 - 00:00:00</th>\n",
       "    </tr>\n",
       "  </thead>\n",
       "  <tbody>\n",
       "    <tr>\n",
       "      <th>0</th>\n",
       "      <td>00:09:15 - 00:11:95</td>\n",
       "    </tr>\n",
       "    <tr>\n",
       "      <th>1</th>\n",
       "      <td>00:42:10 - 00:45:31</td>\n",
       "    </tr>\n",
       "    <tr>\n",
       "      <th>2</th>\n",
       "      <td>00:46:84 - 01:07:03</td>\n",
       "    </tr>\n",
       "    <tr>\n",
       "      <th>3</th>\n",
       "      <td>01:13:67 - 01:33:79</td>\n",
       "    </tr>\n",
       "    <tr>\n",
       "      <th>4</th>\n",
       "      <td>01:35:63 - 01:37:46</td>\n",
       "    </tr>\n",
       "    <tr>\n",
       "      <th>5</th>\n",
       "      <td>02:03:02 - 02:03:02</td>\n",
       "    </tr>\n",
       "  </tbody>\n",
       "</table>\n",
       "</div>"
      ],
      "text/plain": [
       "   00:00:00 - 00:00:00\n",
       "0  00:09:15 - 00:11:95\n",
       "1  00:42:10 - 00:45:31\n",
       "2  00:46:84 - 01:07:03\n",
       "3  01:13:67 - 01:33:79\n",
       "4  01:35:63 - 01:37:46\n",
       "5  02:03:02 - 02:03:02"
      ]
     },
     "execution_count": 144,
     "metadata": {},
     "output_type": "execute_result"
    }
   ],
   "source": [
    "timings_data"
   ]
  },
  {
   "cell_type": "code",
   "execution_count": 145,
   "metadata": {},
   "outputs": [
    {
     "data": {
      "text/plain": [
       "Index(['00:00:00 - 00:00:00'], dtype='object')"
      ]
     },
     "execution_count": 145,
     "metadata": {},
     "output_type": "execute_result"
    }
   ],
   "source": [
    "timings_data.columns"
   ]
  },
  {
   "cell_type": "markdown",
   "metadata": {},
   "source": [
    "Convert timestmap from timings.txt into a format that can easily be compared with sensor data timestamp"
   ]
  },
  {
   "cell_type": "code",
   "execution_count": 146,
   "metadata": {},
   "outputs": [
    {
     "name": "stdout",
     "output_type": "stream",
     "text": [
      "[]\n"
     ]
    }
   ],
   "source": [
    "#Create an empty DataFrame to store converted timings \n",
    "converted_timings_df=pd.DataFrame(columns=['Converted_Timestamp'])\n",
    "print(converted_timings)"
   ]
  },
  {
   "cell_type": "code",
   "execution_count": 147,
   "metadata": {},
   "outputs": [],
   "source": [
    "#Define a common date\n",
    "common_date= \"2017-04-06\""
   ]
  },
  {
   "cell_type": "code",
   "execution_count": 148,
   "metadata": {},
   "outputs": [],
   "source": [
    "#Parse and convert the timings \n",
    "for timing in timings_data:\n",
    "    start_time_str, end_time_str = timing.split(\" - \")\n",
    "    "
   ]
  },
  {
   "cell_type": "code",
   "execution_count": 149,
   "metadata": {},
   "outputs": [
    {
     "name": "stdout",
     "output_type": "stream",
     "text": [
      "2017-04-06 00:00:00\n"
     ]
    }
   ],
   "source": [
    "#Add common date to timings\n",
    "start_time_str = common_date + \" \" + start_time_str\n",
    "end_time_str = common_date + \" \" + end_time_str\n",
    "print(start_time_str)"
   ]
  },
  {
   "cell_type": "code",
   "execution_count": 150,
   "metadata": {},
   "outputs": [
    {
     "name": "stdout",
     "output_type": "stream",
     "text": [
      "2017-04-06 00:00:00\n"
     ]
    }
   ],
   "source": [
    "# Convert to datetime objects\n",
    "start_time = datetime.datetime.strptime(start_time_str, \"%Y-%m-%d %H:%M:%S\")\n",
    "end_time = datetime.datetime.strptime(end_time_str, \"%Y-%m-%d %H:%M:%S\")\n",
    "print(start_time)"
   ]
  },
  {
   "cell_type": "code",
   "execution_count": 151,
   "metadata": {},
   "outputs": [
    {
     "name": "stderr",
     "output_type": "stream",
     "text": [
      "C:\\Users\\hp\\AppData\\Local\\Temp\\ipykernel_3612\\3903777790.py:2: FutureWarning: The frame.append method is deprecated and will be removed from pandas in a future version. Use pandas.concat instead.\n",
      "  converted_timings_df = converted_timings_df.append({\"Converted_Timestamp\": start_time}, ignore_index=True)\n",
      "C:\\Users\\hp\\AppData\\Local\\Temp\\ipykernel_3612\\3903777790.py:3: FutureWarning: The frame.append method is deprecated and will be removed from pandas in a future version. Use pandas.concat instead.\n",
      "  converted_timings_df = converted_timings_df.append({\"Converted_Timestamp\": end_time}, ignore_index=True)\n"
     ]
    }
   ],
   "source": [
    "# Append the converted timestamps to the DataFrame\n",
    "converted_timings_df = converted_timings_df.append({\"Converted_Timestamp\": start_time}, ignore_index=True)\n",
    "converted_timings_df = converted_timings_df.append({\"Converted_Timestamp\": end_time}, ignore_index=True)"
   ]
  },
  {
   "cell_type": "code",
   "execution_count": null,
   "metadata": {},
   "outputs": [],
   "source": []
  },
  {
   "cell_type": "code",
   "execution_count": 152,
   "metadata": {},
   "outputs": [],
   "source": [
    "# Sort the DataFrame by timestamps\n",
    "converted_timings_df = converted_timings_df.sort_values(by=\"Converted_Timestamp\")\n"
   ]
  },
  {
   "cell_type": "code",
   "execution_count": 153,
   "metadata": {},
   "outputs": [
    {
     "name": "stdout",
     "output_type": "stream",
     "text": [
      "  Converted_Timestamp\n",
      "0          2017-04-06\n",
      "1          2017-04-06\n"
     ]
    }
   ],
   "source": [
    "# Reset the index of the DataFrame\n",
    "converted_timings_df = converted_timings_df.reset_index(drop=True)\n",
    "print(converted_timings_df)"
   ]
  },
  {
   "cell_type": "code",
   "execution_count": 154,
   "metadata": {},
   "outputs": [
    {
     "ename": "OutOfBoundsDatetime",
     "evalue": "Out of bounds nanosecond timestamp: 1-01-01 00:00:00 present at position 0",
     "output_type": "error",
     "traceback": [
      "\u001b[1;31m---------------------------------------------------------------------------\u001b[0m",
      "\u001b[1;31mOutOfBoundsDatetime\u001b[0m                       Traceback (most recent call last)",
      "Cell \u001b[1;32mIn[154], line 4\u001b[0m\n\u001b[0;32m      2\u001b[0m \u001b[39mfor\u001b[39;00m line \u001b[39min\u001b[39;00m timings_data:\n\u001b[0;32m      3\u001b[0m     start_time, end_time \u001b[39m=\u001b[39m line\u001b[39m.\u001b[39mstrip()\u001b[39m.\u001b[39msplit(\u001b[39m\"\u001b[39m\u001b[39m-\u001b[39m\u001b[39m\"\u001b[39m)\n\u001b[1;32m----> 4\u001b[0m     timing_data\u001b[39m.\u001b[39mappend((pd\u001b[39m.\u001b[39mto_datetime(start_time),pd\u001b[39m.\u001b[39;49mto_datetime(end_time)))\n",
      "File \u001b[1;32mc:\\Users\\hp\\anaconda3\\envs\\myenv\\lib\\site-packages\\pandas\\core\\tools\\datetimes.py:1102\u001b[0m, in \u001b[0;36mto_datetime\u001b[1;34m(arg, errors, dayfirst, yearfirst, utc, format, exact, unit, infer_datetime_format, origin, cache)\u001b[0m\n\u001b[0;32m   1100\u001b[0m         result \u001b[39m=\u001b[39m convert_listlike(argc, \u001b[39mformat\u001b[39m)\n\u001b[0;32m   1101\u001b[0m \u001b[39melse\u001b[39;00m:\n\u001b[1;32m-> 1102\u001b[0m     result \u001b[39m=\u001b[39m convert_listlike(np\u001b[39m.\u001b[39;49marray([arg]), \u001b[39mformat\u001b[39;49m)[\u001b[39m0\u001b[39m]\n\u001b[0;32m   1103\u001b[0m     \u001b[39mif\u001b[39;00m \u001b[39misinstance\u001b[39m(arg, \u001b[39mbool\u001b[39m) \u001b[39mand\u001b[39;00m \u001b[39misinstance\u001b[39m(result, np\u001b[39m.\u001b[39mbool_):\n\u001b[0;32m   1104\u001b[0m         result \u001b[39m=\u001b[39m \u001b[39mbool\u001b[39m(result)  \u001b[39m# TODO: avoid this kludge.\u001b[39;00m\n",
      "File \u001b[1;32mc:\\Users\\hp\\anaconda3\\envs\\myenv\\lib\\site-packages\\pandas\\core\\tools\\datetimes.py:438\u001b[0m, in \u001b[0;36m_convert_listlike_datetimes\u001b[1;34m(arg, format, name, tz, unit, errors, infer_datetime_format, dayfirst, yearfirst, exact)\u001b[0m\n\u001b[0;32m    436\u001b[0m \u001b[39massert\u001b[39;00m \u001b[39mformat\u001b[39m \u001b[39mis\u001b[39;00m \u001b[39mNone\u001b[39;00m \u001b[39mor\u001b[39;00m infer_datetime_format\n\u001b[0;32m    437\u001b[0m utc \u001b[39m=\u001b[39m tz \u001b[39m==\u001b[39m \u001b[39m\"\u001b[39m\u001b[39mutc\u001b[39m\u001b[39m\"\u001b[39m\n\u001b[1;32m--> 438\u001b[0m result, tz_parsed \u001b[39m=\u001b[39m objects_to_datetime64ns(\n\u001b[0;32m    439\u001b[0m     arg,\n\u001b[0;32m    440\u001b[0m     dayfirst\u001b[39m=\u001b[39;49mdayfirst,\n\u001b[0;32m    441\u001b[0m     yearfirst\u001b[39m=\u001b[39;49myearfirst,\n\u001b[0;32m    442\u001b[0m     utc\u001b[39m=\u001b[39;49mutc,\n\u001b[0;32m    443\u001b[0m     errors\u001b[39m=\u001b[39;49merrors,\n\u001b[0;32m    444\u001b[0m     require_iso8601\u001b[39m=\u001b[39;49mrequire_iso8601,\n\u001b[0;32m    445\u001b[0m     allow_object\u001b[39m=\u001b[39;49m\u001b[39mTrue\u001b[39;49;00m,\n\u001b[0;32m    446\u001b[0m )\n\u001b[0;32m    448\u001b[0m \u001b[39mif\u001b[39;00m tz_parsed \u001b[39mis\u001b[39;00m \u001b[39mnot\u001b[39;00m \u001b[39mNone\u001b[39;00m:\n\u001b[0;32m    449\u001b[0m     \u001b[39m# We can take a shortcut since the datetime64 numpy array\u001b[39;00m\n\u001b[0;32m    450\u001b[0m     \u001b[39m# is in UTC\u001b[39;00m\n\u001b[0;32m    451\u001b[0m     dta \u001b[39m=\u001b[39m DatetimeArray(result, dtype\u001b[39m=\u001b[39mtz_to_dtype(tz_parsed))\n",
      "File \u001b[1;32mc:\\Users\\hp\\anaconda3\\envs\\myenv\\lib\\site-packages\\pandas\\core\\arrays\\datetimes.py:2177\u001b[0m, in \u001b[0;36mobjects_to_datetime64ns\u001b[1;34m(data, dayfirst, yearfirst, utc, errors, require_iso8601, allow_object, allow_mixed)\u001b[0m\n\u001b[0;32m   2175\u001b[0m order: Literal[\u001b[39m\"\u001b[39m\u001b[39mF\u001b[39m\u001b[39m\"\u001b[39m, \u001b[39m\"\u001b[39m\u001b[39mC\u001b[39m\u001b[39m\"\u001b[39m] \u001b[39m=\u001b[39m \u001b[39m\"\u001b[39m\u001b[39mF\u001b[39m\u001b[39m\"\u001b[39m \u001b[39mif\u001b[39;00m flags\u001b[39m.\u001b[39mf_contiguous \u001b[39melse\u001b[39;00m \u001b[39m\"\u001b[39m\u001b[39mC\u001b[39m\u001b[39m\"\u001b[39m\n\u001b[0;32m   2176\u001b[0m \u001b[39mtry\u001b[39;00m:\n\u001b[1;32m-> 2177\u001b[0m     result, tz_parsed \u001b[39m=\u001b[39m tslib\u001b[39m.\u001b[39;49marray_to_datetime(\n\u001b[0;32m   2178\u001b[0m         data\u001b[39m.\u001b[39;49mravel(\u001b[39m\"\u001b[39;49m\u001b[39mK\u001b[39;49m\u001b[39m\"\u001b[39;49m),\n\u001b[0;32m   2179\u001b[0m         errors\u001b[39m=\u001b[39;49merrors,\n\u001b[0;32m   2180\u001b[0m         utc\u001b[39m=\u001b[39;49mutc,\n\u001b[0;32m   2181\u001b[0m         dayfirst\u001b[39m=\u001b[39;49mdayfirst,\n\u001b[0;32m   2182\u001b[0m         yearfirst\u001b[39m=\u001b[39;49myearfirst,\n\u001b[0;32m   2183\u001b[0m         require_iso8601\u001b[39m=\u001b[39;49mrequire_iso8601,\n\u001b[0;32m   2184\u001b[0m         allow_mixed\u001b[39m=\u001b[39;49mallow_mixed,\n\u001b[0;32m   2185\u001b[0m     )\n\u001b[0;32m   2186\u001b[0m     result \u001b[39m=\u001b[39m result\u001b[39m.\u001b[39mreshape(data\u001b[39m.\u001b[39mshape, order\u001b[39m=\u001b[39morder)\n\u001b[0;32m   2187\u001b[0m \u001b[39mexcept\u001b[39;00m \u001b[39mOverflowError\u001b[39;00m \u001b[39mas\u001b[39;00m err:\n\u001b[0;32m   2188\u001b[0m     \u001b[39m# Exception is raised when a part of date is greater than 32 bit signed int\u001b[39;00m\n",
      "File \u001b[1;32mc:\\Users\\hp\\anaconda3\\envs\\myenv\\lib\\site-packages\\pandas\\_libs\\tslib.pyx:427\u001b[0m, in \u001b[0;36mpandas._libs.tslib.array_to_datetime\u001b[1;34m()\u001b[0m\n",
      "File \u001b[1;32mc:\\Users\\hp\\anaconda3\\envs\\myenv\\lib\\site-packages\\pandas\\_libs\\tslib.pyx:678\u001b[0m, in \u001b[0;36mpandas._libs.tslib.array_to_datetime\u001b[1;34m()\u001b[0m\n",
      "File \u001b[1;32mc:\\Users\\hp\\anaconda3\\envs\\myenv\\lib\\site-packages\\pandas\\_libs\\tslib.pyx:674\u001b[0m, in \u001b[0;36mpandas._libs.tslib.array_to_datetime\u001b[1;34m()\u001b[0m\n",
      "File \u001b[1;32mc:\\Users\\hp\\anaconda3\\envs\\myenv\\lib\\site-packages\\pandas\\_libs\\tslib.pyx:628\u001b[0m, in \u001b[0;36mpandas._libs.tslib.array_to_datetime\u001b[1;34m()\u001b[0m\n",
      "File \u001b[1;32mc:\\Users\\hp\\anaconda3\\envs\\myenv\\lib\\site-packages\\pandas\\_libs\\tslibs\\conversion.pyx:391\u001b[0m, in \u001b[0;36mpandas._libs.tslibs.conversion.convert_datetime_to_tsobject\u001b[1;34m()\u001b[0m\n",
      "File \u001b[1;32mc:\\Users\\hp\\anaconda3\\envs\\myenv\\lib\\site-packages\\pandas\\_libs\\tslibs\\np_datetime.pyx:212\u001b[0m, in \u001b[0;36mpandas._libs.tslibs.np_datetime.check_dts_bounds\u001b[1;34m()\u001b[0m\n",
      "\u001b[1;31mOutOfBoundsDatetime\u001b[0m: Out of bounds nanosecond timestamp: 1-01-01 00:00:00 present at position 0"
     ]
    }
   ],
   "source": [
    "timing_data=[]\n",
    "for line in timings_data:\n",
    "    start_time, end_time = line.strip().split(\"-\")\n",
    "    timing_data.append((pd.to_datetime(start_time),pd.to_datetime(end_time)))"
   ]
  },
  {
   "cell_type": "code",
   "execution_count": null,
   "metadata": {},
   "outputs": [],
   "source": []
  },
  {
   "cell_type": "code",
   "execution_count": null,
   "metadata": {},
   "outputs": [],
   "source": []
  },
  {
   "cell_type": "code",
   "execution_count": null,
   "metadata": {},
   "outputs": [],
   "source": [
    "# Convert and format the timestamps\n",
    "formatted_timings=[]\n",
    "for timing in timings_data:\n",
    "    start_time_str, end_time_str = timing.split(\"-\")\n",
    "    \n",
    "    # Pad the seconds with \".000\" to match the datetime format\n",
    "    start_time_str = start_time_str.replace(\":\", \".\")\n",
    "    end_time_str = end_time_str.replace(\":\", \".\")\n",
    "    \n",
    "    \n",
    "    formatted_start_time= f\"1970-01-01 {start_time_str}\"\n",
    "    formatted_end_time = f\"1970-01-01 {end_time_str}\"\n",
    "\n",
    "    formatted_timings.append((formatted_start_time, formatted_end_time))"
   ]
  },
  {
   "cell_type": "code",
   "execution_count": null,
   "metadata": {},
   "outputs": [
    {
     "data": {
      "text/plain": [
       "[('1970-01-01 00.00.00 ', '1970-01-01  00.00.00')]"
      ]
     },
     "execution_count": 50,
     "metadata": {},
     "output_type": "execute_result"
    }
   ],
   "source": [
    "formatted_timings"
   ]
  },
  {
   "cell_type": "code",
   "execution_count": null,
   "metadata": {},
   "outputs": [
    {
     "ename": "IndexError",
     "evalue": "list index out of range",
     "output_type": "error",
     "traceback": [
      "\u001b[1;31m---------------------------------------------------------------------------\u001b[0m",
      "\u001b[1;31mIndexError\u001b[0m                                Traceback (most recent call last)",
      "Cell \u001b[1;32mIn[36], line 12\u001b[0m\n\u001b[0;32m     10\u001b[0m parts\u001b[39m=\u001b[39mline\u001b[39m.\u001b[39mstrip()\u001b[39m.\u001b[39msplit(\u001b[39m\"\u001b[39m\u001b[39m:\u001b[39m\u001b[39m\"\u001b[39m)\n\u001b[0;32m     11\u001b[0m activity, interval \u001b[39m=\u001b[39m parts[\u001b[39m0\u001b[39m], parts[\u001b[39m1\u001b[39m]\u001b[39m.\u001b[39msplit(\u001b[39m\"\u001b[39m\u001b[39m - \u001b[39m\u001b[39m\"\u001b[39m)\n\u001b[1;32m---> 12\u001b[0m timings\u001b[39m.\u001b[39mappend((activity, interval[\u001b[39m0\u001b[39m], interval[\u001b[39m1\u001b[39;49m]))\n",
      "\u001b[1;31mIndexError\u001b[0m: list index out of range"
     ]
    }
   ],
   "source": [
    "import datetime\n",
    "\n",
    "#load timing information from 'Timing.txt' file\n",
    "## Create an empty list to store timing information\n",
    "timings=[]\n",
    "\n",
    "# Read timing information from \"Timings.txt\"\n",
    "with open (r\"C:\\Users\\hp\\Sports Performance Tracking\\Data of Head and Torso movement\\data\\Training Data\\User008\\Timings ref HTC.txt\") as file:\n",
    "    for line in file:\n",
    "        parts=line.strip().split(\":\")\n",
    "        activity, interval = parts[0], parts[1].split(\" - \")\n",
    "        timings.append((activity, interval[0], interval[1]))\n",
    "        \n",
    "# Convert gyroscope and accelerometer timestamps to datetime objects\n",
    "#gyro_data001[\"Timestamp\"] = pd.to_datetime(gyro_data001[\"Timestamp\"])\n",
    "#linear_acceldata001[\"Timestamp\"] = pd.to_datetime(linear_acceldata001[\"Timestamp\"])\n"
   ]
  },
  {
   "cell_type": "code",
   "execution_count": null,
   "metadata": {},
   "outputs": [],
   "source": []
  }
 ],
 "metadata": {
  "kernelspec": {
   "display_name": "myenv",
   "language": "python",
   "name": "python3"
  },
  "language_info": {
   "codemirror_mode": {
    "name": "ipython",
    "version": 3
   },
   "file_extension": ".py",
   "mimetype": "text/x-python",
   "name": "python",
   "nbconvert_exporter": "python",
   "pygments_lexer": "ipython3",
   "version": "3.9.16"
  },
  "orig_nbformat": 4
 },
 "nbformat": 4,
 "nbformat_minor": 2
}
